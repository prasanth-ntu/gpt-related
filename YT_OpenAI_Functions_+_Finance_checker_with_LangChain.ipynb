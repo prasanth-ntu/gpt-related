{
 "cells": [
  {
   "cell_type": "markdown",
   "metadata": {
    "colab_type": "text",
    "id": "view-in-github"
   },
   "source": [
    "<a href=\"https://colab.research.google.com/github/prasanth-ntu/gpt-related/blob/main/YT_OpenAI_Functions_%2B_Finance_checker_with_LangChain.ipynb\" target=\"_parent\"><img src=\"https://colab.research.google.com/assets/colab-badge.svg\" alt=\"Open In Colab\"/></a>"
   ]
  },
  {
   "cell_type": "markdown",
   "metadata": {},
   "source": [
    "# README\n"
   ]
  },
  {
   "cell_type": "markdown",
   "metadata": {},
   "source": [
    "Source: https://docs.google.com/document/d/1euGq2hO5DN6dy_-bwQhJdY032AGlPNwR61LLjj2mSyw/edit (shared in Meetup)"
   ]
  },
  {
   "cell_type": "markdown",
   "metadata": {},
   "source": [
    "# Installations"
   ]
  },
  {
   "cell_type": "code",
   "execution_count": 3,
   "metadata": {
    "ExecuteTime": {
     "end_time": "2023-06-27T08:12:40.377178Z",
     "start_time": "2023-06-27T08:12:38.790520Z"
    },
    "colab": {
     "base_uri": "https://localhost:8080/"
    },
    "id": "RRYSu48huSUW",
    "outputId": "4b83055a-35fc-4b9b-e883-b96062454928",
    "scrolled": true
   },
   "outputs": [
    {
     "name": "stdout",
     "output_type": "stream",
     "text": [
      "Name: langchain\n",
      "Version: 0.0.216\n",
      "Summary: Building applications with LLMs through composability\n",
      "Home-page: https://www.github.com/hwchase17/langchain\n",
      "Author: \n",
      "Author-email: \n",
      "License: MIT\n",
      "Location: /Users/prasanth.thangavel/.pyenv/versions/3.10.5/envs/fastai_related/lib/python3.10/site-packages\n",
      "Requires: aiohttp, async-timeout, dataclasses-json, langchainplus-sdk, numexpr, numpy, openapi-schema-pydantic, pydantic, PyYAML, requests, SQLAlchemy, tenacity\n",
      "Required-by: \n"
     ]
    }
   ],
   "source": [
    "# !pip -q install langchain openai tiktoken yfinance\n",
    "!pip show langchain"
   ]
  },
  {
   "cell_type": "code",
   "execution_count": 4,
   "metadata": {
    "ExecuteTime": {
     "end_time": "2023-06-27T08:12:41.424289Z",
     "start_time": "2023-06-27T08:12:41.412608Z"
    }
   },
   "outputs": [],
   "source": [
    "import json\n",
    "import os"
   ]
  },
  {
   "cell_type": "code",
   "execution_count": 5,
   "metadata": {
    "ExecuteTime": {
     "end_time": "2023-06-27T08:12:41.603325Z",
     "start_time": "2023-06-27T08:12:41.585850Z"
    },
    "id": "dNA4TsHpu6OM",
    "scrolled": true
   },
   "outputs": [],
   "source": [
    "with open('config.json', 'r') as f:\n",
    "    config = json.load(f)\n",
    "os.environ[\"OPENAI_API_KEY\"] = config['openai_api_key']"
   ]
  },
  {
   "cell_type": "markdown",
   "metadata": {
    "id": "tGsd4tc_WC9P"
   },
   "source": [
    "## Understanding OpenAI Functions"
   ]
  },
  {
   "cell_type": "markdown",
   "metadata": {},
   "source": [
    "### OpenAI own example\n",
    "\n",
    "Source: https://platform.openai.com/docs/guides/gpt/function-calling"
   ]
  },
  {
   "cell_type": "code",
   "execution_count": 45,
   "metadata": {
    "ExecuteTime": {
     "end_time": "2023-06-27T08:19:37.723532Z",
     "start_time": "2023-06-27T08:19:37.717469Z"
    }
   },
   "outputs": [],
   "source": [
    "import openai\n",
    "import json"
   ]
  },
  {
   "cell_type": "code",
   "execution_count": 46,
   "metadata": {
    "ExecuteTime": {
     "end_time": "2023-06-27T08:19:43.420657Z",
     "start_time": "2023-06-27T08:19:43.409840Z"
    }
   },
   "outputs": [],
   "source": [
    "# Example dummy function hard coded to return the same weather\n",
    "# In production, this could be your backend API or an external API\n",
    "def get_current_weather(location, unit=\"fahrenheit\"):\n",
    "    \"\"\"Get the current weather in a given location\"\"\"\n",
    "    weather_info = {\n",
    "        \"location\": location,\n",
    "        \"temperature\": \"72\",\n",
    "        \"unit\": unit,\n",
    "        \"forecast\": [\"sunny\", \"windy\"],\n",
    "    }\n",
    "    return json.dumps(weather_info)"
   ]
  },
  {
   "cell_type": "code",
   "execution_count": 47,
   "metadata": {
    "ExecuteTime": {
     "end_time": "2023-06-27T08:19:54.795584Z",
     "start_time": "2023-06-27T08:19:54.784402Z"
    }
   },
   "outputs": [
    {
     "data": {
      "text/plain": [
       "'{\"location\": \"Singapore\", \"temperature\": \"72\", \"unit\": \"fahrenheit\", \"forecast\": [\"sunny\", \"windy\"]}'"
      ]
     },
     "execution_count": 47,
     "metadata": {},
     "output_type": "execute_result"
    }
   ],
   "source": [
    "get_current_weather(location=\"Singapore\", unit=\"fahrenheit\")"
   ]
  },
  {
   "cell_type": "code",
   "execution_count": 51,
   "metadata": {
    "ExecuteTime": {
     "end_time": "2023-06-27T08:26:04.257277Z",
     "start_time": "2023-06-27T08:26:04.240123Z"
    }
   },
   "outputs": [],
   "source": [
    "def run_conversation():\n",
    "    # Step 1: send the conversation and available functions to GPT\n",
    "    messages = [{\"role\": \"user\", \"content\": \"What's the weather like in Boston?\"}]\n",
    "    functions = [\n",
    "        {\n",
    "            \"name\": \"get_current_weather\",\n",
    "            \"description\": \"Get the current weather in a given location\",\n",
    "            \"parameters\": {\n",
    "                \"type\": \"object\",\n",
    "                \"properties\": {\n",
    "                    \"location\": {\n",
    "                        \"type\": \"string\",\n",
    "                        \"description\": \"The city and state, e.g. San Francisco, CA\",\n",
    "                    },\n",
    "                    \"unit\": {\"type\": \"string\", \"enum\": [\"celsius\", \"fahrenheit\"]},\n",
    "                },\n",
    "                \"required\": [\"location\"],\n",
    "            },\n",
    "        }\n",
    "    ]\n",
    "    response = openai.ChatCompletion.create(\n",
    "        model=\"gpt-3.5-turbo-0613\",\n",
    "        messages=messages,\n",
    "        functions=functions,\n",
    "        function_call=\"auto\",  # auto is default, but we'll be explicit\n",
    "    )\n",
    "    response_message = response[\"choices\"][0][\"message\"]\n",
    "\n",
    "    # Step 2: check if GPT wanted to call a function\n",
    "    if response_message.get(\"function_call\"):\n",
    "        # Step 3: call the function\n",
    "        # Note: the JSON response may not always be valid; be sure to handle errors\n",
    "        available_functions = {\n",
    "            \"get_current_weather\": get_current_weather,\n",
    "        }  # only one function in this example, but you can have multiple\n",
    "        function_name = response_message[\"function_call\"][\"name\"]\n",
    "        fuction_to_call = available_functions[function_name]\n",
    "        function_args = json.loads(response_message[\"function_call\"][\"arguments\"])\n",
    "        function_response = fuction_to_call(\n",
    "            location=function_args.get(\"location\"),\n",
    "            unit=function_args.get(\"unit\"),\n",
    "        )\n",
    "\n",
    "        # Step 4: send the info on the function call and function response to GPT\n",
    "        messages.append(response_message)  # extend conversation with assistant's reply\n",
    "        messages.append(\n",
    "            {\n",
    "                \"role\": \"function\",\n",
    "                \"name\": function_name,\n",
    "                \"content\": function_response,\n",
    "            }\n",
    "        )  # extend conversation with function response\n",
    "        second_response = openai.ChatCompletion.create(\n",
    "            model=\"gpt-3.5-turbo-0613\",\n",
    "            messages=messages,\n",
    "        )  # get a new response from GPT where it can see the function response\n",
    "        return second_response, messages"
   ]
  },
  {
   "cell_type": "code",
   "execution_count": 52,
   "metadata": {
    "ExecuteTime": {
     "end_time": "2023-06-27T08:26:12.647555Z",
     "start_time": "2023-06-27T08:26:08.816030Z"
    }
   },
   "outputs": [],
   "source": [
    "second_response, messages = run_conversation()"
   ]
  },
  {
   "cell_type": "code",
   "execution_count": 53,
   "metadata": {
    "ExecuteTime": {
     "end_time": "2023-06-27T08:26:16.181626Z",
     "start_time": "2023-06-27T08:26:16.173355Z"
    }
   },
   "outputs": [
    {
     "name": "stdout",
     "output_type": "stream",
     "text": [
      "{\n",
      "  \"id\": \"chatcmpl-7VyJXoxSlix0Z32yEHe6GOv4JWyPW\",\n",
      "  \"object\": \"chat.completion\",\n",
      "  \"created\": 1687854371,\n",
      "  \"model\": \"gpt-3.5-turbo-0613\",\n",
      "  \"choices\": [\n",
      "    {\n",
      "      \"index\": 0,\n",
      "      \"message\": {\n",
      "        \"role\": \"assistant\",\n",
      "        \"content\": \"The weather in Boston is currently sunny and windy with a temperature of 72 degrees.\"\n",
      "      },\n",
      "      \"finish_reason\": \"stop\"\n",
      "    }\n",
      "  ],\n",
      "  \"usage\": {\n",
      "    \"prompt_tokens\": 67,\n",
      "    \"completion_tokens\": 17,\n",
      "    \"total_tokens\": 84\n",
      "  }\n",
      "}\n"
     ]
    }
   ],
   "source": [
    "print (second_response)"
   ]
  },
  {
   "cell_type": "code",
   "execution_count": 61,
   "metadata": {
    "ExecuteTime": {
     "end_time": "2023-06-27T08:28:51.134093Z",
     "start_time": "2023-06-27T08:28:51.125775Z"
    }
   },
   "outputs": [
    {
     "name": "stdout",
     "output_type": "stream",
     "text": [
      "{'role': 'user', 'content': \"What's the weather like in Boston?\"}\n",
      "{\n",
      "  \"role\": \"assistant\",\n",
      "  \"content\": null,\n",
      "  \"function_call\": {\n",
      "    \"name\": \"get_current_weather\",\n",
      "    \"arguments\": \"{\\n\\\"location\\\": \\\"Boston\\\"\\n}\"\n",
      "  }\n",
      "}\n",
      "{'role': 'function', 'name': 'get_current_weather', 'content': '{\"location\": \"Boston\", \"temperature\": \"72\", \"unit\": null, \"forecast\": [\"sunny\", \"windy\"]}'}\n"
     ]
    }
   ],
   "source": [
    "for message in messages:\n",
    "    print (message)"
   ]
  },
  {
   "cell_type": "markdown",
   "metadata": {
    "id": "0aOMX8logkFm"
   },
   "source": [
    "### Simple example"
   ]
  },
  {
   "cell_type": "code",
   "execution_count": 6,
   "metadata": {
    "ExecuteTime": {
     "end_time": "2023-06-27T08:12:42.320368Z",
     "start_time": "2023-06-27T08:12:42.308629Z"
    },
    "id": "VoCQg4K_gu31"
   },
   "outputs": [],
   "source": [
    "functions = [\n",
    "    {\n",
    "        \"name\": \"get_current_weather\",\n",
    "        \"description\": \"Get the current weather\",\n",
    "        \"parameters\": {\n",
    "            \"type\": \"object\",\n",
    "            \"properties\": {\n",
    "                \"location\": {\n",
    "                    \"type\": \"string\",\n",
    "                    \"description\": \"The city and state, e.g. San Francisco, CA\",\n",
    "                },\n",
    "                \"format\": {\n",
    "                    \"type\": \"string\",\n",
    "                    \"enum\": [\"celsius\", \"fahrenheit\"],\n",
    "                    \"description\": \"The temperature unit to use. Infer this from the users location.\",\n",
    "                },\n",
    "            },\n",
    "            \"required\": [\"location\", \"format\"],\n",
    "        },\n",
    "    }\n",
    "]"
   ]
  },
  {
   "cell_type": "markdown",
   "metadata": {
    "id": "HqwsGJDhvAQ5"
   },
   "source": [
    "### Setting up YFinance\n"
   ]
  },
  {
   "cell_type": "code",
   "execution_count": 65,
   "metadata": {
    "ExecuteTime": {
     "end_time": "2023-06-27T08:39:55.170564Z",
     "start_time": "2023-06-27T08:39:54.990738Z"
    },
    "colab": {
     "base_uri": "https://localhost:8080/"
    },
    "id": "YRI5440YQQGC",
    "outputId": "f0255a62-0fee-4ef6-ffc4-d272c0deed94"
   },
   "outputs": [
    {
     "name": "stdout",
     "output_type": "stream",
     "text": [
      "185.27\n"
     ]
    }
   ],
   "source": [
    "import yfinance as yf\n",
    "\n",
    "def get_stock_price(symbol):\n",
    "    ticker = yf.Ticker(symbol)\n",
    "    todays_data = ticker.history(period='1d')\n",
    "    return round(todays_data['Close'][0], 2)\n",
    "\n",
    "# use the function\n",
    "print(get_stock_price('AAPL'))"
   ]
  },
  {
   "cell_type": "code",
   "execution_count": 66,
   "metadata": {
    "ExecuteTime": {
     "end_time": "2023-06-27T08:40:05.118381Z",
     "start_time": "2023-06-27T08:40:04.996718Z"
    },
    "colab": {
     "base_uri": "https://localhost:8080/"
    },
    "id": "0wg282JoTCyx",
    "outputId": "f981fa89-880f-4657-f65c-a93e1e6340eb"
   },
   "outputs": [
    {
     "name": "stdout",
     "output_type": "stream",
     "text": [
      "119.09\n"
     ]
    }
   ],
   "source": [
    "# use the function\n",
    "print(get_stock_price('GOOG'))"
   ]
  },
  {
   "cell_type": "markdown",
   "metadata": {
    "id": "bu0S2hVvhL9U"
   },
   "source": [
    "### Setting up tools"
   ]
  },
  {
   "cell_type": "code",
   "execution_count": 9,
   "metadata": {
    "ExecuteTime": {
     "end_time": "2023-06-27T08:12:45.402890Z",
     "start_time": "2023-06-27T08:12:44.683047Z"
    },
    "id": "HMsQheoUhOWy"
   },
   "outputs": [],
   "source": [
    "from langchain.tools import BaseTool\n",
    "from langchain.agents import initialize_agent, Tool\n",
    "from langchain.agents import AgentType\n",
    "from langchain.chat_models import ChatOpenAI\n",
    "\n",
    "from typing import Optional, Type\n",
    "\n",
    "from pydantic import BaseModel, Field"
   ]
  },
  {
   "cell_type": "code",
   "execution_count": 10,
   "metadata": {
    "ExecuteTime": {
     "end_time": "2023-06-27T08:12:45.405539Z",
     "start_time": "2023-06-27T08:12:45.404109Z"
    },
    "id": "5RZ8J3RihbPN"
   },
   "outputs": [],
   "source": [
    "# # from langchain.tools import DuckDuckGoSearchTool\n",
    "# from langchain.agents import Tool\n",
    "# from langchain.tools import BaseTool\n",
    "\n",
    "# # search = DuckDuckGoSearchTool()\n",
    "# # # defining a single tool\n",
    "# # tools = [\n",
    "# #     Tool(\n",
    "# #         name = \"search\",\n",
    "# #         func=search.run,\n",
    "# #         description=\"useful for when you need to answer questions about current events. You should ask targeted questions\"\n",
    "# #     )\n",
    "# # ]"
   ]
  },
  {
   "cell_type": "code",
   "execution_count": 11,
   "metadata": {
    "ExecuteTime": {
     "end_time": "2023-06-27T08:12:45.862457Z",
     "start_time": "2023-06-27T08:12:45.854481Z"
    },
    "id": "Qdcr69QZoFJm"
   },
   "outputs": [],
   "source": [
    "\n",
    "class StockPriceCheckInput(BaseModel):\n",
    "    \"\"\"Input for Stock price check.\"\"\"\n",
    "\n",
    "    stockticker: str = Field(..., description=\"Ticker symbol for stock or index\")"
   ]
  },
  {
   "cell_type": "code",
   "execution_count": 12,
   "metadata": {
    "ExecuteTime": {
     "end_time": "2023-06-27T08:12:46.238446Z",
     "start_time": "2023-06-27T08:12:46.222890Z"
    },
    "id": "BiWuFYxzmDyR"
   },
   "outputs": [],
   "source": [
    "class StockPriceTool(BaseTool):\n",
    "    name = \"get_stock_ticker_price\"\n",
    "    description = \"Useful for when you need to find out the price of stock. You should input the stock ticker used on the yfinance API\"\n",
    "\n",
    "    def _run(self, stockticker: str):\n",
    "        # print(\"i'm running\")\n",
    "        price_response = get_stock_price(stockticker)\n",
    "\n",
    "        return price_response\n",
    "\n",
    "    def _arun(self, stockticker: str):\n",
    "        raise NotImplementedError(\"This tool does not support async\")\n",
    "\n",
    "    args_schema: Optional[Type[BaseModel]] = StockPriceCheckInput\n"
   ]
  },
  {
   "cell_type": "code",
   "execution_count": 13,
   "metadata": {
    "ExecuteTime": {
     "end_time": "2023-06-27T08:12:46.592948Z",
     "start_time": "2023-06-27T08:12:46.584072Z"
    },
    "id": "-UwMNnkUhg6N"
   },
   "outputs": [],
   "source": [
    "# StockPriceTool = Tool(\n",
    "#     name='Get Stock Ticker price',\n",
    "#     func= get_stock_price,\n",
    "#     description=\"Useful for when you need to find out the price of stock. You should input the stock ticker used on the yfinance API\"\n",
    "# )"
   ]
  },
  {
   "cell_type": "markdown",
   "metadata": {
    "id": "co-Wa69TWAUg"
   },
   "source": [
    "## LangChain doing it Manualy"
   ]
  },
  {
   "cell_type": "code",
   "execution_count": 14,
   "metadata": {
    "ExecuteTime": {
     "end_time": "2023-06-27T08:12:47.774756Z",
     "start_time": "2023-06-27T08:12:47.767776Z"
    },
    "id": "LKlnewa8UP7H"
   },
   "outputs": [],
   "source": [
    "from langchain.chat_models import ChatOpenAI\n",
    "from langchain.schema import HumanMessage, AIMessage, ChatMessage, FunctionMessage"
   ]
  },
  {
   "cell_type": "code",
   "execution_count": 15,
   "metadata": {
    "ExecuteTime": {
     "end_time": "2023-06-27T08:12:49.455586Z",
     "start_time": "2023-06-27T08:12:49.431970Z"
    },
    "id": "7xUwdGJybkmK"
   },
   "outputs": [],
   "source": [
    "model = ChatOpenAI(model=\"gpt-3.5-turbo-0613\")"
   ]
  },
  {
   "cell_type": "code",
   "execution_count": 16,
   "metadata": {
    "ExecuteTime": {
     "end_time": "2023-06-27T08:12:50.060392Z",
     "start_time": "2023-06-27T08:12:50.051166Z"
    },
    "id": "G4uYEmS9bmv0"
   },
   "outputs": [],
   "source": [
    "from langchain.tools import MoveFileTool, format_tool_to_openai_function"
   ]
  },
  {
   "cell_type": "code",
   "execution_count": 17,
   "metadata": {
    "ExecuteTime": {
     "end_time": "2023-06-27T08:12:51.101084Z",
     "start_time": "2023-06-27T08:12:51.080496Z"
    },
    "colab": {
     "base_uri": "https://localhost:8080/"
    },
    "id": "oiUB4r15kw3V",
    "outputId": "c86e85bc-6c80-42db-c415-d0e73e48b280"
   },
   "outputs": [
    {
     "data": {
      "text/plain": [
       "{'name': 'move_file',\n",
       " 'description': 'Move or rename a file from one location to another',\n",
       " 'parameters': {'title': 'FileMoveInput',\n",
       "  'description': 'Input for MoveFileTool.',\n",
       "  'type': 'object',\n",
       "  'properties': {'source_path': {'title': 'Source Path',\n",
       "    'description': 'Path of the file to move',\n",
       "    'type': 'string'},\n",
       "   'destination_path': {'title': 'Destination Path',\n",
       "    'description': 'New path for the moved file',\n",
       "    'type': 'string'}},\n",
       "  'required': ['source_path', 'destination_path']}}"
      ]
     },
     "execution_count": 17,
     "metadata": {},
     "output_type": "execute_result"
    }
   ],
   "source": [
    "{'name': 'move_file',\n",
    " 'description': 'Move or rename a file from one location to another',\n",
    " 'parameters': {'title': 'FileMoveInput',\n",
    "                'description': 'Input for MoveFileTool.',\n",
    "                'type': 'object',\n",
    "                'properties': {'source_path': {'title': 'Source Path',\n",
    "                                               'description': 'Path of the file to move',\n",
    "                                               'type': 'string'},\n",
    "                               'destination_path': {'title': 'Destination Path',\n",
    "                                               'description': 'New path for the moved file',\n",
    "                                               'type': 'string'}},\n",
    "                'required': ['source_path', 'destination_path']}}"
   ]
  },
  {
   "cell_type": "code",
   "execution_count": 18,
   "metadata": {
    "ExecuteTime": {
     "end_time": "2023-06-27T08:12:53.372716Z",
     "start_time": "2023-06-27T08:12:53.362027Z"
    },
    "id": "fQnwupGhjI0_"
   },
   "outputs": [],
   "source": [
    "# |MoveFileTool().args_schema.schema()"
   ]
  },
  {
   "cell_type": "code",
   "execution_count": 67,
   "metadata": {
    "ExecuteTime": {
     "end_time": "2023-06-27T08:44:01.750278Z",
     "start_time": "2023-06-27T08:44:01.736782Z"
    },
    "id": "Kz5J15J3bv08"
   },
   "outputs": [],
   "source": [
    "tools = [StockPriceTool()]\n",
    "functions = [format_tool_to_openai_function(t) for t in tools]"
   ]
  },
  {
   "cell_type": "code",
   "execution_count": 68,
   "metadata": {
    "ExecuteTime": {
     "end_time": "2023-06-27T08:44:02.547267Z",
     "start_time": "2023-06-27T08:44:02.531871Z"
    },
    "colab": {
     "base_uri": "https://localhost:8080/"
    },
    "id": "ElmmJgpWi2ax",
    "outputId": "65cdc61e-d311-4655-ab74-f69f7ccaca0a"
   },
   "outputs": [
    {
     "data": {
      "text/plain": [
       "{'name': 'get_stock_ticker_price',\n",
       " 'description': 'Useful for when you need to find out the price of stock. You should input the stock ticker used on the yfinance API',\n",
       " 'parameters': {'title': 'StockPriceCheckInput',\n",
       "  'description': 'Input for Stock price check.',\n",
       "  'type': 'object',\n",
       "  'properties': {'stockticker': {'title': 'Stockticker',\n",
       "    'description': 'Ticker symbol for stock or index',\n",
       "    'type': 'string'}},\n",
       "  'required': ['stockticker']}}"
      ]
     },
     "execution_count": 68,
     "metadata": {},
     "output_type": "execute_result"
    }
   ],
   "source": [
    "functions[0]"
   ]
  },
  {
   "cell_type": "code",
   "execution_count": 69,
   "metadata": {
    "ExecuteTime": {
     "end_time": "2023-06-27T08:45:06.445984Z",
     "start_time": "2023-06-27T08:45:04.602331Z"
    },
    "id": "KMtU1sWTbnZB"
   },
   "outputs": [],
   "source": [
    "ai_message = model.predict_messages(\n",
    "    messages=[HumanMessage(content='What is the price of Google stock')], \n",
    "    functions=functions\n",
    ")"
   ]
  },
  {
   "cell_type": "code",
   "execution_count": 70,
   "metadata": {
    "ExecuteTime": {
     "end_time": "2023-06-27T08:46:43.590008Z",
     "start_time": "2023-06-27T08:46:43.575989Z"
    },
    "colab": {
     "base_uri": "https://localhost:8080/"
    },
    "id": "pYvQ1boLbqi2",
    "outputId": "823f41f4-b1eb-4727-8959-8a7e21197d61"
   },
   "outputs": [
    {
     "data": {
      "text/plain": [
       "AIMessage(content='', additional_kwargs={'function_call': {'name': 'get_stock_ticker_price', 'arguments': '{\\n  \"stockticker\": \"GOOGL\"\\n}'}}, example=False)"
      ]
     },
     "execution_count": 70,
     "metadata": {},
     "output_type": "execute_result"
    }
   ],
   "source": [
    "ai_message"
   ]
  },
  {
   "cell_type": "code",
   "execution_count": 71,
   "metadata": {
    "ExecuteTime": {
     "end_time": "2023-06-27T08:47:06.805609Z",
     "start_time": "2023-06-27T08:47:06.797970Z"
    },
    "colab": {
     "base_uri": "https://localhost:8080/"
    },
    "id": "ANcp0LEIctol",
    "outputId": "deb3c2a5-767d-4324-a781-0acc3d6f3698"
   },
   "outputs": [
    {
     "data": {
      "text/plain": [
       "{'name': 'get_stock_ticker_price',\n",
       " 'arguments': '{\\n  \"stockticker\": \"GOOGL\"\\n}'}"
      ]
     },
     "execution_count": 71,
     "metadata": {},
     "output_type": "execute_result"
    }
   ],
   "source": [
    "ai_message.additional_kwargs['function_call']"
   ]
  },
  {
   "cell_type": "code",
   "execution_count": 72,
   "metadata": {
    "ExecuteTime": {
     "end_time": "2023-06-27T08:47:11.518102Z",
     "start_time": "2023-06-27T08:47:11.504645Z"
    },
    "colab": {
     "base_uri": "https://localhost:8080/"
    },
    "id": "VSpgKqFDgUJf",
    "outputId": "08024fec-42fa-4fb2-a76d-0138f7055702"
   },
   "outputs": [
    {
     "data": {
      "text/plain": [
       "{'stockticker': 'GOOGL'}"
      ]
     },
     "execution_count": 72,
     "metadata": {},
     "output_type": "execute_result"
    }
   ],
   "source": [
    "import json\n",
    "_args = json.loads(ai_message.additional_kwargs['function_call'].get('arguments'))\n",
    "_args"
   ]
  },
  {
   "cell_type": "code",
   "execution_count": 73,
   "metadata": {
    "ExecuteTime": {
     "end_time": "2023-06-27T08:47:35.059434Z",
     "start_time": "2023-06-27T08:47:34.942035Z"
    },
    "colab": {
     "base_uri": "https://localhost:8080/"
    },
    "id": "PMQUp-Y5OIMH",
    "outputId": "2861571d-74ed-44fc-c636-4d16cee55caa"
   },
   "outputs": [
    {
     "data": {
      "text/plain": [
       "118.34"
      ]
     },
     "execution_count": 73,
     "metadata": {},
     "output_type": "execute_result"
    }
   ],
   "source": [
    "tool_result = tools[0](_args)\n",
    "tool_result"
   ]
  },
  {
   "cell_type": "code",
   "execution_count": 74,
   "metadata": {
    "ExecuteTime": {
     "end_time": "2023-06-27T08:47:36.439802Z",
     "start_time": "2023-06-27T08:47:36.419748Z"
    },
    "colab": {
     "base_uri": "https://localhost:8080/"
    },
    "id": "HSCjOF9fSRcM",
    "outputId": "a5707b45-9d75-42f1-a6cb-d44b0458ed1c"
   },
   "outputs": [
    {
     "data": {
      "text/plain": [
       "FunctionMessage(content='118.34', additional_kwargs={}, name='get_stock_ticker_price')"
      ]
     },
     "execution_count": 74,
     "metadata": {},
     "output_type": "execute_result"
    }
   ],
   "source": [
    "FunctionMessage(name='get_stock_ticker_price',content=tool_result)"
   ]
  },
  {
   "cell_type": "code",
   "execution_count": 27,
   "metadata": {
    "ExecuteTime": {
     "end_time": "2023-06-27T08:13:04.723863Z",
     "start_time": "2023-06-27T08:13:03.030514Z"
    },
    "id": "n5dlRG48OUAk"
   },
   "outputs": [],
   "source": [
    "final_message = model.predict_messages(\n",
    "    messages = [\n",
    "        HumanMessage(content='What is the price of Google stock'),\n",
    "        ai_message,\n",
    "        FunctionMessage(name='get_stock_ticker_price',content=tool_result),\n",
    "    ], \n",
    "    functions=functions\n",
    ")"
   ]
  },
  {
   "cell_type": "code",
   "execution_count": 75,
   "metadata": {
    "ExecuteTime": {
     "end_time": "2023-06-27T08:48:17.121115Z",
     "start_time": "2023-06-27T08:48:17.106014Z"
    },
    "colab": {
     "base_uri": "https://localhost:8080/"
    },
    "id": "AGDw7MfwQm2b",
    "outputId": "17d93fa6-3064-45b0-9da4-d8a6fd6a0633"
   },
   "outputs": [
    {
     "data": {
      "text/plain": [
       "AIMessage(content='The current price of Google stock (GOOGL) is $118.34.', additional_kwargs={}, example=False)"
      ]
     },
     "execution_count": 75,
     "metadata": {},
     "output_type": "execute_result"
    }
   ],
   "source": [
    "final_message"
   ]
  },
  {
   "cell_type": "markdown",
   "metadata": {
    "id": "9vqB7Ag3Pa33"
   },
   "source": [
    "## Putting it together as an Agent"
   ]
  },
  {
   "cell_type": "code",
   "execution_count": 29,
   "metadata": {
    "ExecuteTime": {
     "end_time": "2023-06-27T08:13:08.804290Z",
     "start_time": "2023-06-27T08:13:08.796298Z"
    },
    "id": "ThsbsO3qPnfO"
   },
   "outputs": [],
   "source": [
    "llm = ChatOpenAI(temperature=0, model=\"gpt-3.5-turbo-0613\")"
   ]
  },
  {
   "cell_type": "code",
   "execution_count": 76,
   "metadata": {
    "ExecuteTime": {
     "end_time": "2023-06-27T08:49:45.894432Z",
     "start_time": "2023-06-27T08:49:45.886414Z"
    },
    "id": "0LKxJ6fcPeQf"
   },
   "outputs": [],
   "source": [
    "open_ai_agent = initialize_agent(\n",
    "    tools,\n",
    "    llm,\n",
    "    agent=AgentType.OPENAI_FUNCTIONS,\n",
    "    verbose=True)"
   ]
  },
  {
   "cell_type": "code",
   "execution_count": 77,
   "metadata": {
    "ExecuteTime": {
     "end_time": "2023-06-27T08:49:50.825541Z",
     "start_time": "2023-06-27T08:49:46.571985Z"
    },
    "colab": {
     "base_uri": "https://localhost:8080/",
     "height": 209
    },
    "id": "aAoc0zJ_PjIJ",
    "outputId": "e95e5107-a76c-4704-f8a8-4980c95715ab"
   },
   "outputs": [
    {
     "name": "stdout",
     "output_type": "stream",
     "text": [
      "\n",
      "\n",
      "\u001b[1m> Entering new  chain...\u001b[0m\n",
      "\u001b[32;1m\u001b[1;3m\n",
      "Invoking: `get_stock_ticker_price` with `{'stockticker': 'GOOGL'}`\n",
      "\n",
      "\n",
      "\u001b[0m\u001b[36;1m\u001b[1;3m118.34\u001b[0m\u001b[32;1m\u001b[1;3mThe current price of Google stock (GOOGL) is $118.34.\u001b[0m\n",
      "\n",
      "\u001b[1m> Finished chain.\u001b[0m\n"
     ]
    },
    {
     "data": {
      "text/plain": [
       "'The current price of Google stock (GOOGL) is $118.34.'"
      ]
     },
     "execution_count": 77,
     "metadata": {},
     "output_type": "execute_result"
    }
   ],
   "source": [
    "open_ai_agent.run(\"What is the price of Google stock?\")"
   ]
  },
  {
   "cell_type": "markdown",
   "metadata": {
    "id": "R9PVLXLmThML"
   },
   "source": [
    "## OpenAI Functions Agent\n",
    "\n",
    "### Advantages\n",
    "- Better reasoning and tool selection than ReACT / Toolformer?\n",
    "- Less tokens needed\n",
    "\n",
    "### Disadvantages\n",
    "- Not as easy to customize via prompt change etc if it doesn't work\n",
    "- locks you code into the OpenAI way\n",
    "- Still need tokens for Tool/Function descriptions"
   ]
  },
  {
   "cell_type": "markdown",
   "metadata": {
    "id": "lohFBZ5HdbcR"
   },
   "source": [
    "## Multiple Tools"
   ]
  },
  {
   "cell_type": "code",
   "execution_count": 32,
   "metadata": {
    "ExecuteTime": {
     "end_time": "2023-06-27T08:13:22.840278Z",
     "start_time": "2023-06-27T08:13:22.689437Z"
    },
    "colab": {
     "base_uri": "https://localhost:8080/"
    },
    "id": "-HSx3t8QTyKj",
    "outputId": "123beea2-9b4e-498f-f639-2e004445b5e0"
   },
   "outputs": [
    {
     "name": "stdout",
     "output_type": "stream",
     "text": [
      "4.5\n"
     ]
    }
   ],
   "source": [
    "from datetime import datetime, timedelta\n",
    "\n",
    "def get_price_change_percent(symbol, days_ago):\n",
    "    ticker = yf.Ticker(symbol)\n",
    "\n",
    "    # Get today's date\n",
    "    end_date = datetime.now()\n",
    "\n",
    "    # Get the date N days ago\n",
    "    start_date = end_date - timedelta(days=days_ago)\n",
    "\n",
    "    # Convert dates to string format that yfinance can accept\n",
    "    start_date = start_date.strftime('%Y-%m-%d')\n",
    "    end_date = end_date.strftime('%Y-%m-%d')\n",
    "\n",
    "    # Get the historical data\n",
    "    historical_data = ticker.history(start=start_date, end=end_date)\n",
    "\n",
    "    # Get the closing price N days ago and today's closing price\n",
    "    old_price = historical_data['Close'].iloc[0]\n",
    "    new_price = historical_data['Close'].iloc[-1]\n",
    "\n",
    "    # Calculate the percentage change\n",
    "    percent_change = ((new_price - old_price) / old_price) * 100\n",
    "\n",
    "    return round(percent_change, 2)\n",
    "\n",
    "# Use the function\n",
    "print(get_price_change_percent('AAPL', 30))  # for 30 days ago\n"
   ]
  },
  {
   "cell_type": "code",
   "execution_count": 33,
   "metadata": {
    "ExecuteTime": {
     "end_time": "2023-06-27T08:13:24.946114Z",
     "start_time": "2023-06-27T08:13:24.132845Z"
    },
    "colab": {
     "base_uri": "https://localhost:8080/"
    },
    "id": "r-GTzpC9VOEM",
    "outputId": "33507179-4ba4-477d-86ce-e2a03c655d4d"
   },
   "outputs": [
    {
     "name": "stdout",
     "output_type": "stream",
     "text": [
      "The best performing stock over the past 90 days is MSFT with a performance of 17.4%\n"
     ]
    }
   ],
   "source": [
    "import yfinance as yf\n",
    "from datetime import datetime, timedelta\n",
    "\n",
    "def calculate_performance(symbol, days_ago):\n",
    "    ticker = yf.Ticker(symbol)\n",
    "    end_date = datetime.now()\n",
    "    start_date = end_date - timedelta(days=days_ago)\n",
    "    start_date = start_date.strftime('%Y-%m-%d')\n",
    "    end_date = end_date.strftime('%Y-%m-%d')\n",
    "    historical_data = ticker.history(start=start_date, end=end_date)\n",
    "    old_price = historical_data['Close'].iloc[0]\n",
    "    new_price = historical_data['Close'].iloc[-1]\n",
    "    percent_change = ((new_price - old_price) / old_price) * 100\n",
    "    return round(percent_change, 2)\n",
    "\n",
    "def get_best_performing(stocks, days_ago):\n",
    "    best_stock = None\n",
    "    best_performance = None\n",
    "    for stock in stocks:\n",
    "        try:\n",
    "            performance = calculate_performance(stock, days_ago)\n",
    "            if best_performance is None or performance > best_performance:\n",
    "                best_stock = stock\n",
    "                best_performance = performance\n",
    "        except Exception as e:\n",
    "            print(f\"Could not calculate performance for {stock}: {e}\")\n",
    "    return best_stock, best_performance\n",
    "\n",
    "stocks = ['AAPL', 'MSFT', 'GOOG']\n",
    "days_ago = 90  # change as desired\n",
    "\n",
    "best_stock, best_performance = get_best_performing(stocks, days_ago)\n",
    "print(f\"The best performing stock over the past {days_ago} days is {best_stock} with a performance of {best_performance}%\")\n"
   ]
  },
  {
   "cell_type": "markdown",
   "metadata": {
    "id": "itlzbGZ5hTDx"
   },
   "source": [
    "### Make the Tools"
   ]
  },
  {
   "cell_type": "code",
   "execution_count": 34,
   "metadata": {
    "ExecuteTime": {
     "end_time": "2023-06-27T08:13:26.557440Z",
     "start_time": "2023-06-27T08:13:26.534920Z"
    },
    "id": "74147GgQP0fd"
   },
   "outputs": [],
   "source": [
    "from typing import List\n",
    "\n",
    "\n",
    "class StockChangePercentageCheckInput(BaseModel):\n",
    "    \"\"\"Input for Stock ticker check. for percentage check\"\"\"\n",
    "\n",
    "    stockticker: str = Field(..., description=\"Ticker symbol for stock or index\")\n",
    "    days_ago: int = Field(..., description=\"Int number of days to look back\")\n",
    "\n",
    "class StockPercentageChangeTool(BaseTool):\n",
    "    name = \"get_price_change_percent\"\n",
    "    description = \"Useful for when you need to find out the percentage change in a stock's value. You should input the stock ticker used on the yfinance API and also input the number of days to check the change over\"\n",
    "\n",
    "    def _run(self, stockticker: str, days_ago: int):\n",
    "        price_change_response = get_price_change_percent(stockticker, days_ago)\n",
    "\n",
    "        return price_change_response\n",
    "\n",
    "    def _arun(self, stockticker: str, days_ago: int):\n",
    "        raise NotImplementedError(\"This tool does not support async\")\n",
    "\n",
    "    args_schema: Optional[Type[BaseModel]] = StockChangePercentageCheckInput\n",
    "\n",
    "\n",
    "# the best performing\n",
    "\n",
    "class StockBestPerformingInput(BaseModel):\n",
    "    \"\"\"Input for Stock ticker check. for percentage check\"\"\"\n",
    "\n",
    "    stocktickers: List[str] = Field(..., description=\"Ticker symbols for stocks or indices\")\n",
    "    days_ago: int = Field(..., description=\"Int number of days to look back\")\n",
    "\n",
    "class StockGetBestPerformingTool(BaseTool):\n",
    "    name = \"get_best_performing\"\n",
    "    description = \"Useful for when you need to the performance of multiple stocks over a period. You should input a list of stock tickers used on the yfinance API and also input the number of days to check the change over\"\n",
    "\n",
    "    def _run(self, stocktickers: List[str], days_ago: int):\n",
    "        price_change_response = get_best_performing(stocktickers, days_ago)\n",
    "\n",
    "        return price_change_response\n",
    "\n",
    "    def _arun(self, stockticker: List[str], days_ago: int):\n",
    "        raise NotImplementedError(\"This tool does not support async\")\n",
    "\n",
    "    args_schema: Optional[Type[BaseModel]] = StockBestPerformingInput"
   ]
  },
  {
   "cell_type": "code",
   "execution_count": 35,
   "metadata": {
    "ExecuteTime": {
     "end_time": "2023-06-27T08:13:26.827867Z",
     "start_time": "2023-06-27T08:13:26.820643Z"
    },
    "id": "SK9yuhQ9evMl"
   },
   "outputs": [],
   "source": [
    "tools = [StockPriceTool(),StockPercentageChangeTool(), StockGetBestPerformingTool()]\n",
    "\n",
    "# functions = [format_tool_to_openai_function(t) for t in tools]"
   ]
  },
  {
   "cell_type": "code",
   "execution_count": 36,
   "metadata": {
    "ExecuteTime": {
     "end_time": "2023-06-27T08:13:27.191920Z",
     "start_time": "2023-06-27T08:13:27.179237Z"
    },
    "colab": {
     "base_uri": "https://localhost:8080/"
    },
    "id": "igqJ4T73e4b1",
    "outputId": "c44a92d3-2804-4b75-f270-b338d093fe05"
   },
   "outputs": [
    {
     "data": {
      "text/plain": [
       "[StockPriceTool(name='get_stock_ticker_price', description='Useful for when you need to find out the price of stock. You should input the stock ticker used on the yfinance API', args_schema=<class '__main__.StockPriceCheckInput'>, return_direct=False, verbose=False, callbacks=None, callback_manager=None, handle_tool_error=False),\n",
       " StockPercentageChangeTool(name='get_price_change_percent', description=\"Useful for when you need to find out the percentage change in a stock's value. You should input the stock ticker used on the yfinance API and also input the number of days to check the change over\", args_schema=<class '__main__.StockChangePercentageCheckInput'>, return_direct=False, verbose=False, callbacks=None, callback_manager=None, handle_tool_error=False),\n",
       " StockGetBestPerformingTool(name='get_best_performing', description='Useful for when you need to the performance of multiple stocks over a period. You should input a list of stock tickers used on the yfinance API and also input the number of days to check the change over', args_schema=<class '__main__.StockBestPerformingInput'>, return_direct=False, verbose=False, callbacks=None, callback_manager=None, handle_tool_error=False)]"
      ]
     },
     "execution_count": 36,
     "metadata": {},
     "output_type": "execute_result"
    }
   ],
   "source": [
    "tools"
   ]
  },
  {
   "cell_type": "code",
   "execution_count": 37,
   "metadata": {
    "ExecuteTime": {
     "end_time": "2023-06-27T08:13:28.947478Z",
     "start_time": "2023-06-27T08:13:28.938999Z"
    },
    "id": "JZiw1RsTe_ch"
   },
   "outputs": [],
   "source": [
    "llm = ChatOpenAI(temperature=0, model=\"gpt-3.5-turbo-0613\")"
   ]
  },
  {
   "cell_type": "code",
   "execution_count": 38,
   "metadata": {
    "ExecuteTime": {
     "end_time": "2023-06-27T08:13:29.389820Z",
     "start_time": "2023-06-27T08:13:29.379633Z"
    },
    "id": "K_XbiPuve_ci"
   },
   "outputs": [],
   "source": [
    "open_ai_agent = initialize_agent(tools,\n",
    "                        llm,\n",
    "                        agent=AgentType.OPENAI_FUNCTIONS,\n",
    "                        verbose=True)"
   ]
  },
  {
   "cell_type": "code",
   "execution_count": 39,
   "metadata": {
    "ExecuteTime": {
     "end_time": "2023-06-27T08:13:32.565988Z",
     "start_time": "2023-06-27T08:13:29.892838Z"
    },
    "colab": {
     "base_uri": "https://localhost:8080/",
     "height": 209
    },
    "id": "4YArEbHTe_ci",
    "outputId": "0ba75bc3-608e-4a0a-88b0-59e5f6939d26"
   },
   "outputs": [
    {
     "name": "stdout",
     "output_type": "stream",
     "text": [
      "\n",
      "\n",
      "\u001b[1m> Entering new  chain...\u001b[0m\n",
      "\u001b[32;1m\u001b[1;3m\n",
      "Invoking: `get_stock_ticker_price` with `{'stockticker': 'GOOGL'}`\n",
      "\n",
      "\n",
      "\u001b[0m\u001b[36;1m\u001b[1;3m118.34\u001b[0m\u001b[32;1m\u001b[1;3mThe price of Google stock today is $118.34.\u001b[0m\n",
      "\n",
      "\u001b[1m> Finished chain.\u001b[0m\n"
     ]
    },
    {
     "data": {
      "text/plain": [
       "'The price of Google stock today is $118.34.'"
      ]
     },
     "execution_count": 39,
     "metadata": {},
     "output_type": "execute_result"
    }
   ],
   "source": [
    "open_ai_agent.run(\"What is the price of Google stock today?\")"
   ]
  },
  {
   "cell_type": "code",
   "execution_count": 40,
   "metadata": {
    "ExecuteTime": {
     "end_time": "2023-06-27T08:13:38.203220Z",
     "start_time": "2023-06-27T08:13:33.527326Z"
    },
    "colab": {
     "base_uri": "https://localhost:8080/",
     "height": 209
    },
    "id": "GvDaOc3cfD6I",
    "outputId": "d57bf02d-afb5-473e-b4bd-8b9e4f9545a9"
   },
   "outputs": [
    {
     "name": "stdout",
     "output_type": "stream",
     "text": [
      "\n",
      "\n",
      "\u001b[1m> Entering new  chain...\u001b[0m\n",
      "\u001b[32;1m\u001b[1;3m\n",
      "Invoking: `get_price_change_percent` with `{'stockticker': 'GOOGL', 'days_ago': 90}`\n",
      "\n",
      "\n",
      "\u001b[0m\u001b[33;1m\u001b[1;3m16.72\u001b[0m\u001b[32;1m\u001b[1;3mYes, Google's stock (GOOGL) has gone up by 16.72% over the past 90 days.\u001b[0m\n",
      "\n",
      "\u001b[1m> Finished chain.\u001b[0m\n"
     ]
    },
    {
     "data": {
      "text/plain": [
       "\"Yes, Google's stock (GOOGL) has gone up by 16.72% over the past 90 days.\""
      ]
     },
     "execution_count": 40,
     "metadata": {},
     "output_type": "execute_result"
    }
   ],
   "source": [
    "open_ai_agent.run(\"Has google's stock gone up over the past 90 days?\")"
   ]
  },
  {
   "cell_type": "code",
   "execution_count": 41,
   "metadata": {
    "ExecuteTime": {
     "end_time": "2023-06-27T08:13:41.592063Z",
     "start_time": "2023-06-27T08:13:38.206610Z"
    },
    "colab": {
     "base_uri": "https://localhost:8080/",
     "height": 209
    },
    "id": "oYeRS67WfsfZ",
    "outputId": "4b9052bf-6f2b-408f-95a2-1e843e491af4"
   },
   "outputs": [
    {
     "name": "stdout",
     "output_type": "stream",
     "text": [
      "\n",
      "\n",
      "\u001b[1m> Entering new  chain...\u001b[0m\n",
      "\u001b[32;1m\u001b[1;3m\n",
      "Invoking: `get_price_change_percent` with `{'stockticker': 'GOOGL', 'days_ago': 90}`\n",
      "\n",
      "\n",
      "\u001b[0m\u001b[33;1m\u001b[1;3m16.72\u001b[0m\u001b[32;1m\u001b[1;3mGoogle's stock has gone up by 16.72% over the past 3 months.\u001b[0m\n",
      "\n",
      "\u001b[1m> Finished chain.\u001b[0m\n"
     ]
    },
    {
     "data": {
      "text/plain": [
       "\"Google's stock has gone up by 16.72% over the past 3 months.\""
      ]
     },
     "execution_count": 41,
     "metadata": {},
     "output_type": "execute_result"
    }
   ],
   "source": [
    "open_ai_agent.run(\"How much has google's stock gone up over the past 3 months?\")"
   ]
  },
  {
   "cell_type": "code",
   "execution_count": 42,
   "metadata": {
    "ExecuteTime": {
     "end_time": "2023-06-27T08:13:46.417180Z",
     "start_time": "2023-06-27T08:13:41.600775Z"
    },
    "colab": {
     "base_uri": "https://localhost:8080/",
     "height": 246
    },
    "id": "jHjQYThCf0TO",
    "outputId": "63dd3979-1efc-4d27-f638-5d9ad01be91e"
   },
   "outputs": [
    {
     "name": "stdout",
     "output_type": "stream",
     "text": [
      "\n",
      "\n",
      "\u001b[1m> Entering new  chain...\u001b[0m\n",
      "\u001b[32;1m\u001b[1;3m\n",
      "Invoking: `get_best_performing` with `{'stocktickers': ['GOOGL', 'META', 'MSFT'], 'days_ago': 90}`\n",
      "\n",
      "\n",
      "\u001b[0m\u001b[38;5;200m\u001b[1;3m('META', 35.61)\u001b[0m\u001b[32;1m\u001b[1;3mThe stock that has performed the best over the past 3 months out of Google, Meta, and MSFT is Meta with a return of 35.61%.\u001b[0m\n",
      "\n",
      "\u001b[1m> Finished chain.\u001b[0m\n"
     ]
    },
    {
     "data": {
      "text/plain": [
       "'The stock that has performed the best over the past 3 months out of Google, Meta, and MSFT is Meta with a return of 35.61%.'"
      ]
     },
     "execution_count": 42,
     "metadata": {},
     "output_type": "execute_result"
    }
   ],
   "source": [
    "open_ai_agent.run(\"Which stock out of Google, Meta and MSFT has performed best over the past 3 months?\")"
   ]
  },
  {
   "cell_type": "code",
   "execution_count": 43,
   "metadata": {
    "ExecuteTime": {
     "end_time": "2023-06-27T08:13:50.336597Z",
     "start_time": "2023-06-27T08:13:46.429709Z"
    },
    "colab": {
     "base_uri": "https://localhost:8080/",
     "height": 209
    },
    "id": "C1rzyxrxjgY7",
    "outputId": "8e90077d-d4be-4fd5-84ea-7d33d992a717"
   },
   "outputs": [
    {
     "name": "stdout",
     "output_type": "stream",
     "text": [
      "\n",
      "\n",
      "\u001b[1m> Entering new  chain...\u001b[0m\n",
      "\u001b[32;1m\u001b[1;3m\n",
      "Invoking: `get_price_change_percent` with `{'stockticker': 'MSFT', 'days_ago': 90}`\n",
      "\n",
      "\n",
      "\u001b[0m\u001b[33;1m\u001b[1;3m17.4\u001b[0m\u001b[32;1m\u001b[1;3mMicrosoft's stock (MSFT) has gone up by 17.4% over the past 3 months.\u001b[0m\n",
      "\n",
      "\u001b[1m> Finished chain.\u001b[0m\n"
     ]
    },
    {
     "data": {
      "text/plain": [
       "\"Microsoft's stock (MSFT) has gone up by 17.4% over the past 3 months.\""
      ]
     },
     "execution_count": 43,
     "metadata": {},
     "output_type": "execute_result"
    }
   ],
   "source": [
    "open_ai_agent.run(\"How much has MSFT's stock gone up over the past 3 months?\")"
   ]
  },
  {
   "cell_type": "code",
   "execution_count": 44,
   "metadata": {
    "ExecuteTime": {
     "end_time": "2023-06-27T08:13:54.387798Z",
     "start_time": "2023-06-27T08:13:50.341459Z"
    },
    "colab": {
     "base_uri": "https://localhost:8080/",
     "height": 209
    },
    "id": "eqvQgs-Wjmdy",
    "outputId": "397179e1-b5fe-4018-c62c-059ea61ffa78"
   },
   "outputs": [
    {
     "name": "stdout",
     "output_type": "stream",
     "text": [
      "\n",
      "\n",
      "\u001b[1m> Entering new  chain...\u001b[0m\n",
      "\u001b[32;1m\u001b[1;3m\n",
      "Invoking: `get_price_change_percent` with `{'stockticker': 'BTC-USD', 'days_ago': 90}`\n",
      "\n",
      "\n",
      "\u001b[0m\u001b[33;1m\u001b[1;3m7.52\u001b[0m\u001b[32;1m\u001b[1;3mBitcoin has gone up by 7.52% over the past 3 months.\u001b[0m\n",
      "\n",
      "\u001b[1m> Finished chain.\u001b[0m\n"
     ]
    },
    {
     "data": {
      "text/plain": [
       "'Bitcoin has gone up by 7.52% over the past 3 months.'"
      ]
     },
     "execution_count": 44,
     "metadata": {},
     "output_type": "execute_result"
    }
   ],
   "source": [
    "open_ai_agent.run(\"How much has Bitcoin gone up over the past 3 months?\")"
   ]
  },
  {
   "cell_type": "code",
   "execution_count": null,
   "metadata": {
    "id": "CwZhZsH2pEW2"
   },
   "outputs": [],
   "source": []
  },
  {
   "cell_type": "code",
   "execution_count": null,
   "metadata": {},
   "outputs": [],
   "source": []
  }
 ],
 "metadata": {
  "colab": {
   "include_colab_link": true,
   "provenance": []
  },
  "kernelspec": {
   "display_name": "llm_related",
   "language": "python",
   "name": "llm_related"
  },
  "language_info": {
   "codemirror_mode": {
    "name": "ipython",
    "version": 3
   },
   "file_extension": ".py",
   "mimetype": "text/x-python",
   "name": "python",
   "nbconvert_exporter": "python",
   "pygments_lexer": "ipython3",
   "version": "3.9.4"
  },
  "toc": {
   "base_numbering": 1,
   "nav_menu": {},
   "number_sections": true,
   "sideBar": true,
   "skip_h1_title": false,
   "title_cell": "Table of Contents",
   "title_sidebar": "Contents",
   "toc_cell": false,
   "toc_position": {
    "height": "calc(100% - 180px)",
    "left": "10px",
    "top": "150px",
    "width": "369.594px"
   },
   "toc_section_display": true,
   "toc_window_display": true
  }
 },
 "nbformat": 4,
 "nbformat_minor": 1
}
